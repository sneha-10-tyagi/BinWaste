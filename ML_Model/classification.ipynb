#RANDOM FOREST CLASSIFIER

from sklearn.model_selection import train_test_split
from sklearn.ensemble import RandomForestClassifier  # Changed to Classifier
from sklearn.metrics import accuracy_score, classification_report

def classify_fill_percentage(fill):
    if fill > 85.0:
        return "Alert"
    elif 74.0 <= fill <= 85.0:
        return "Warning"
    else:
        return "Normal"

df_balanced['Fill_Status'] = df_balanced['Fill (%)'].apply(classify_fill_percentage)

X = df_balanced[['Distance (cm)']]

y = df_balanced['Fill_Status']

X_train, X_test, y_train, y_test = train_test_split(X, y, test_size=0.2, random_state=42)

classifier = RandomForestClassifier(n_estimators=100, random_state=42)
classifier.fit(X_train, y_train)

y_pred = classifier.predict(X_test)

accuracy = accuracy_score(y_test, y_pred)
print(f"Accuracy: {accuracy * 100:.2f}%")

print("Classification Report:")
print(classification_report(y_test, y_pred))


#code to save model on local system and use in streamlit code 
from sklearn.ensemble import RandomForestClassifier
import joblib

rf_classifier = RandomForestClassifier(n_estimators=100, random_state=42)
rf_classifier.fit(X_train, y_train)

# Save the trained model
joblib.dump(rf_classifier, 'smart_dustbin_rf_model.pkl')  # Save model to a .pkl file
print("Model saved successfully!")

from google.colab import files

files.download('smart_dustbin_rf_model.pkl')





